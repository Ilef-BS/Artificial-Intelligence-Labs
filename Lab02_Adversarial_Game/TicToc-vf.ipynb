{
 "cells": [
  {
   "cell_type": "markdown",
   "id": "07228c9e-4c1c-44b6-8e56-bc0c0133dfb9",
   "metadata": {},
   "source": [
    "# 🧩 TP : Jeu Tic Tac Toe avec EasyAI\n",
    "\n",
    "EasyAI est une bibliothèque Python d'intelligence artificielle pour les jeux abstraits à deux joueurs tels que Tic Tac Toe, Connect 4, Reversi, etc. Elle permet de définir facilement les mécanismes d'un jeu, et de jouer contre l'ordinateur ou de résoudre le jeu. L'algorithme Negamax de EasyIA est une implémentation de l'algorithme MiniMax avec élagage alpha-beta. \n",
    "\n",
    "https://github.com/Zulko/easyAI\n",
    "\n"
   ]
  },
  {
   "cell_type": "markdown",
   "id": "67981aad-b475-40eb-bdf2-cb0ca7a16419",
   "metadata": {},
   "source": [
    "## 🧩 Définition du jeu\n",
    "\n",
    "Le Tic Tac Toe (ou morpion) est un jeu de stratégie à deux joueurs qui se joue sur une grille de 3×3. Les joueurs placent tour à tour leur symbole (\"X\" pour le premier joueur et \"O\" pour le second) sur une case vide de la grille. Le premier joueur à aligner trois symboles (horizontalement, verticalement ou en diagonale) remporte la partie. Si toutes les cases sont remplies sans qu'un joueur ait réussi un alignement, la partie est déclarée nulle."
   ]
  },
  {
   "cell_type": "markdown",
   "id": "8d73f032-d6b7-432c-a530-5c9437b1a98f",
   "metadata": {},
   "source": [
    "## 📌 Objectif du TP :\n",
    "Apprendre à implémenter un jeu de Tic Tac Toe avec une IA basée sur l'algorithme Negamax (une variante de Minimax avec élagage alpha-bêta)."
   ]
  },
  {
   "cell_type": "markdown",
   "id": "54d7efd7-6a1a-40de-8f3f-531b575e91d0",
   "metadata": {},
   "source": [
    "####  1. Installation de EasyAI"
   ]
  },
  {
   "cell_type": "code",
   "execution_count": 4,
   "id": "19b2ba3d-7490-4972-9fe1-d8e914ce2f26",
   "metadata": {},
   "outputs": [
    {
     "name": "stdout",
     "output_type": "stream",
     "text": [
      "Requirement already satisfied: easyAI in c:\\users\\ilef\\anaconda3\\lib\\site-packages (2.0.12)\n",
      "Requirement already satisfied: numpy in c:\\users\\ilef\\anaconda3\\lib\\site-packages (from easyAI) (1.26.4)\n"
     ]
    }
   ],
   "source": [
    "!pip install easyAI"
   ]
  },
  {
   "cell_type": "markdown",
   "id": "de6276bc-17bf-4cdc-926f-3ae4dd856f1b",
   "metadata": {},
   "source": [
    "####  2. Importation des bibliothèques nécessaires\n"
   ]
  },
  {
   "cell_type": "markdown",
   "id": "3133c681-5caa-4606-9577-a8b9fd84000b",
   "metadata": {},
   "source": [
    "Nous allons importer les classes suivantes à partir de la bibliothèque easyAI :\n",
    "- **TwoPlayerGame** : Classe de base pour tous les jeux à deux joueurs dans la bibliothèque easyAI. Tu dois l'hériter pour définir les règles de ton propre jeu.\n",
    "- **AI_Player** : Représente un joueur contrôlé par l’IA. Cette classe doit être initialisée avec un algorithme d’IA, comme par exemple Negamax (AI_Player(Negamax(9)).\n",
    "- **Human_Player** : Représente un joueur qui interagit avec le jeu manuellement via le terminal. Quand c’est à un Human_Player de jouer, le jeu appelle automatiquement input() pour demander un coup à l’utilisateur."
   ]
  },
  {
   "cell_type": "code",
   "execution_count": 1,
   "id": "718b8cd3-3f38-43fb-a9c9-38e77d6109d2",
   "metadata": {},
   "outputs": [],
   "source": [
    "####################################"
   ]
  },
  {
   "cell_type": "markdown",
   "id": "fb58a047-111a-43cc-8ec5-718b5f84326b",
   "metadata": {},
   "source": [
    "#### 3. Définition de la classe TicTacToe\n",
    "\n",
    "Nous allons implémenter une classe TicTacToe en utilisant la bibliothèque easyAI, qui simplifie le développement de jeux à deux joueurs avec intelligence artificielle. **Cette classe doit hériter de la classe TwoPlayerGame et redéfnir ces méthodes.**\n",
    "\n",
    "📌 Explication des méthodes :\n",
    "- \\__init__ : Initialise le plateau de jeu et définit le joueur qui commence.\n",
    "- possible_moves : Retourne la liste des cases vides où un joueur peut jouer.\n",
    "- make_move : Joue un coup en plaçant le symbole du joueur actuel sur la case choisie.\n",
    "- is_over : Vérifie si la partie est terminée (victoire ou match nul).\n",
    "- show : Affiche l’état actuel du plateau.\n",
    "- scoring : Évalue la partie pour l’IA (+100 pour une victoire, -100 pour une défaite, 0 sinon).\n",
    "- winner : Vérifie si un joueur a gagné."
   ]
  },
  {
   "cell_type": "markdown",
   "id": "8d5f40f5-7ac2-4e10-9674-7886ccca5fd7",
   "metadata": {},
   "source": [
    "**Compléter le code en suivante les consignes en commentaires.**"
   ]
  },
  {
   "cell_type": "code",
   "execution_count": 9,
   "id": "b726f47f-2c46-4443-8a8f-e283992dc1ae",
   "metadata": {},
   "outputs": [],
   "source": [
    "\n",
    "# 1) Définir la classe TicTacToe qui hérite de la classe TwoPlayerGame.\n",
    "class #######################:\n",
    "\n",
    "    # 2) Complétez la méthode __init__ de la classe TicTacToe de manière à :\n",
    "    #       - Stocker la liste des joueurs (passés sous forme de liste players) dans l’attribut self.players.\n",
    "    #       - Créer un attribut appelé board (self.board) et y stocker le plateau de jeu qu'on va utiliser pour le jeu de Tic Tac Toe. \n",
    "    #         Le plateau de jeu est représenté comme une liste de cases vides initialisées à 0 (une liste contenant 9 zéro).\n",
    "    #       - Définir quel joueur commence la partie, ici le joueur 1, en initialisant l'attribut current_player à 1.\n",
    "\n",
    "    def __init__(self, players):\n",
    "        ##########################\n",
    "        ##########################\n",
    "        ##########################\n",
    "        ##########################\n",
    "        \n",
    "    # 3) Complétez la méthode possible_moves qui retourne la liste des cases vides (encore jouables) sur le plateau, comme suit :\n",
    "    #         - Créez une liste vide appelée moves.\n",
    "    #         - Parcourez chaque case du plateau (représenté par self.board).\n",
    "    #         - Si une case contient un 0 (c’est-à-dire qu’elle est libre), ajoutez son indice à la liste moves.\n",
    "    #         - À la fin, retournez la liste moves.\n",
    "    \n",
    "    def possible_moves(self):\n",
    "        ##########################\n",
    "        ##########################\n",
    "        ##########################\n",
    "        ##########################\n",
    "\n",
    "    # 4) Implémentez la méthode make_move qui applique le coup joué par le joueur courant sur le plateau de jeu.\n",
    "    #         - la méthode possède un paramètre \"move\" qui correspond à l’indice de la case choisie (sous forme de chaîne de caractères si entré par un joueur humain).\n",
    "    #         - Convertissez la valeur de move en entier avec int(move) \n",
    "    #         - la case de self.board correspondante à l'indice de move doit être modifiée par le numéro du joueur courant (self.current_player contient le numéro du joueur courant : 1 ou 2).\n",
    "    def make_move(self, move):\n",
    "        ##########################\n",
    "        ##########################\n",
    "        ##########################\n",
    "        ##########################\n",
    "\n",
    "\n",
    "    # 5) Implémentez la méthode is_over qui indique si la partie de morpion est terminée. \n",
    "    # Le jeu s’arrête dans deux cas :\n",
    "    #         - Un joueur a gagné → utilisez la méthode self.winner() pour le vérifier. Si self.winner() retourne autre chose que None, c’est qu’il y a un gagnant.\n",
    "    #         - Le plateau est plein → il n’y a plus aucune case libre (plus de 0 dans self.board). Cela signifie que la partie se termine sur un match nul.\n",
    "    # Si l’un de ces deux cas est vrai, la méthode doit renvoyer True. Sinon, retournez False.\n",
    "    \n",
    "    \"\"\" Vérifie si le jeu est terminé : soit il y a un gagnant, soit le plateau est plein. \"\"\"\n",
    "    def is_over(self):\n",
    "        ##########################\n",
    "        ##########################\n",
    "        ##########################\n",
    "        ##########################\n",
    "\n",
    "    #  6) Implémentez la méthode scoring qui Retourne un score comme suit : \n",
    "    #      - (100) si le joueur actuel gagne, \n",
    "    #      - (-100) s'il perd, \n",
    "    #      - 0 sinon.    \n",
    "    #  Utilisez la méthode self.winner() pour savoir qui a gagné.\n",
    " \n",
    "    def scoring(self):\n",
    "        ##########################\n",
    "        ##########################\n",
    "        ##########################\n",
    "        ##########################\n",
    "\n",
    "    # Cette méthode est déjà implémentée. Elle contient une liste de combinaisons gagnates. \n",
    "    # Chaque sous-liste représente une combinaison des indices des trois cases alignées qui, \n",
    "    # si elles sont remplies par le même joueur, entraînent la victoire.\n",
    "    def winner(self):\n",
    "        winning_combinations = [\n",
    "            [0, 1, 2], [3, 4, 5], [6, 7, 8],\n",
    "            [0, 3, 6], [1, 4, 7], [2, 5, 8],\n",
    "            [0, 4, 8], [2, 4, 6]\n",
    "        ]    \n",
    "        for combo in winning_combinations:\n",
    "            if self.board[combo[0]] == self.board[combo[1]] == self.board[combo[2]] != 0:\n",
    "                return self.board[combo[0]]\n",
    "        return None\n",
    "\n",
    "    # Cette méthode est déjà implémentée. \n",
    "    # Elle affiche le plateau sous forme de grille avec des X pour le joueur 1 et des O pour le joueur 2.    \n",
    "    def show(self):\n",
    "        \"\"\" Affiche la grille du jeu \"\"\"\n",
    "        symbols = {0: \".\", 1: \"X\", 2: \"O\"}\n",
    "        for i in range(0, 9, 3):  \n",
    "            for j in range(3):\n",
    "                print(symbols[self.board[i + j]], end=\" \")  # Affichage sur la même ligne\n",
    "            print()  # Nouvelle ligne après chaque ligne de la grille\n",
    "        print()\n",
    "\n",
    "    # Cette méthode est déjà implémentée. \n",
    "    # Elle affiche une grille avec les indices des cases pour aider le joueur à choisir son coup. \n",
    "    def show_with_numbers(self):\n",
    "        \"\"\" Affiche une grille avec les numéros des cases pour aider le joueur à choisir \"\"\"\n",
    "        print(\"Position des numéros à choisir dans la Grille :\")\n",
    "        for i in range(0, 9, 3):\n",
    "            for j in range(3):\n",
    "                print(i + j, end=\" \")  # Afficher les numéros de cases\n",
    "            print()  # Nouvelle ligne après chaque ligne de la grille\n",
    "        print()  # Saut de ligne pour séparation"
   ]
  },
  {
   "cell_type": "markdown",
   "id": "ccaea984-9f9d-4a1f-aaaf-cee97b9c5247",
   "metadata": {},
   "source": [
    "#### 4. Lancer le Jeu avec l'algorithme de Jeu d'IA avec Negamax\n",
    "\n",
    "EasyAI fournit un algorithme d'IA appelé `Negamax` qui :\n",
    "- Est une variante optimisée de Minimax\n",
    "- Utilise l'élagage alpha-bêta pour accélérer la recherche des meilleurs coups"
   ]
  },
  {
   "cell_type": "code",
   "execution_count": null,
   "id": "db7b8663-6d8d-4e4c-b233-410e403106fa",
   "metadata": {},
   "outputs": [],
   "source": [
    "from easyAI import AI_Player, Negamax, Human_Player\n",
    "\n",
    "# Définition de l'algorithme de l'IA\n",
    "ai_algo = _____  # Trou à compléter (utiliser Negamax avec une profondeur de 4)\n",
    "\n",
    "# Définir un joueur AI. Le joueur AI_Player utilise l'algorithme ai_algo pour faire sa stratégie\n",
    "joueur2 = AI_Player(ai_algo)\n",
    "\n",
    "# Initialisation du jeu avec un joueur humain et une IA\n",
    "game = _____  # Trou à compléter (utiliser TicTacToe avec Human_Player et AI_Player.)\n",
    "\n",
    "game.show_with_numbers()  # Afficher la grille des numéros avant le premier coup\n",
    "\n",
    "# Lancer la partie\n",
    "_____  # Trou à compléter (utiliser la méthode play() de game)\n",
    "\n",
    "# Affichage du résultat final : Implémenter le code pour afficher :\n",
    "# - \"🎉 Bravo ! Tu as gagné !\" si le joueur humain a gagné, \n",
    "# - \"😞 L'IA a gagné. Tu as perdu...\" si la machine a gagné\n",
    "# - \"🤝 Match nul ! Personne n'a gagné.\" si personne n'a gagné\n",
    "\n",
    "____________________   # Compléter le code\n",
    "____________________\n",
    "____________________\n",
    "____________________\n",
    "____________________"
   ]
  },
  {
   "cell_type": "markdown",
   "id": "90921138-36f0-4fc7-b989-2a7853aee0ed",
   "metadata": {},
   "source": [
    "#### 5. Analyse des résultats\n",
    "\n",
    "Testez le jeu avec différents scénarios.\n",
    "Après avoir joué, répondez aux questions suivantes :\n",
    "1. Comment l'IA prend-elle ses décisions ?\n",
    "2. Que se passe-t-il si on augmente la profondeur de recherche de `Negamax(4)` à `Negamax(6)` ?\n",
    "\"\"\"\n"
   ]
  },
  {
   "cell_type": "code",
   "execution_count": null,
   "id": "76bbc318-17cc-4520-9900-5bc7db88ac6a",
   "metadata": {},
   "outputs": [],
   "source": []
  }
 ],
 "metadata": {
  "kernelspec": {
   "display_name": "Python [conda env:base] *",
   "language": "python",
   "name": "conda-base-py"
  },
  "language_info": {
   "codemirror_mode": {
    "name": "ipython",
    "version": 3
   },
   "file_extension": ".py",
   "mimetype": "text/x-python",
   "name": "python",
   "nbconvert_exporter": "python",
   "pygments_lexer": "ipython3",
   "version": "3.12.7"
  }
 },
 "nbformat": 4,
 "nbformat_minor": 5
}
