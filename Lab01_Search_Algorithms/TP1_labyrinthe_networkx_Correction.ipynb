{
 "cells": [
  {
   "cell_type": "markdown",
   "id": "9c0415b9",
   "metadata": {},
   "source": [
    "# 🧩 TP : Résolution de Labyrinthe avec NetworkX\n",
    "Dans ce TP, nous allons représenter un labyrinthe sous forme de graphe et trouver un chemin optimal en utilisant **NetworkX**. Nous implémenterons les algorithmes de recherche suivants :\n",
    "- **BFS** (Recherche en largeur)\n",
    "- **DFS** (Recherche en profondeur)\n",
    "- **A*** (A-star) avec différentes heuristiques\n",
    "\n",
    "🔎 **Objectif** : Trouver le chemin le plus court entre le point de départ 'S' et la sortie 'E'.\n"
   ]
  },
  {
   "cell_type": "markdown",
   "id": "738b42c8",
   "metadata": {},
   "source": [
    "## 📌 1. Importation des bibliothèques nécessaires\n",
    "Nous allons utiliser :\n",
    "- `networkx` pour modéliser le labyrinthe sous forme de graphe.\n",
    "- `numpy` pour manipuler la grille.\n",
    "- `collections.deque` pour utiliser les structures FIFO et LIFO dans BFS et DFS.\n"
   ]
  },
  {
   "cell_type": "code",
   "execution_count": 2,
   "id": "77963f2d",
   "metadata": {},
   "outputs": [],
   "source": [
    "import networkx as nx\n",
    "import numpy as np\n",
    "from collections import deque\n"
   ]
  },
  {
   "cell_type": "markdown",
   "id": "b76751aa-a2b7-4a61-94fd-87ea944cc96b",
   "metadata": {},
   "source": [
    "## 🏗️ 2. Représentation du Labyrinthe\n",
    "On s'intéresse au labyrinthe suivant :\n",
    "\n",
    "<img src=\"labyrinthe_corrected.png\" alt=\"Labyrinthe\" width=\"300\"/>"
   ]
  },
  {
   "attachments": {},
   "cell_type": "markdown",
   "id": "7376fffc",
   "metadata": {},
   "source": [
    "Représenter la strcucture du labyrinthe sous forme de matrice (liste de listes en python) où :\n",
    "- `0` = Passage libre\n",
    "- `1` = Mur\n",
    "- `'S'` = Départ\n",
    "- `'E'` = Sortie\n"
   ]
  },
  {
   "cell_type": "code",
   "execution_count": 41,
   "id": "f6b46adf",
   "metadata": {},
   "outputs": [],
   "source": [
    "Labyrinthe = [\n",
    "      [0, 0, 0, 0, 0, 0, 'E'],\n",
    "      [0, 1, 1, 1, 1, 1, 0],\n",
    "      [0, 0, 0, 1, 0, 0, 0],\n",
    "      [1, 1, 0, 0, 0, 1, 0],\n",
    "    ['S', 0, 0, 1, 1, 1, 1]\n",
    "]\n",
    "\n",
    "# Labyrinthe = [\n",
    "#       [0, 0, 0, 0, 0, 0, 'E'],\n",
    "#       [0, 1, 1, 1, 1, 1, 0],\n",
    "#       [0, 0, 0, 0, 0, 1, 0],\n",
    "#       [0, 1, 0, 1, 0, 1, 0],\n",
    "#     ['S', 0, 0, 1, 0, 0, 0]\n",
    "# ]"
   ]
  },
  {
   "cell_type": "markdown",
   "id": "1390b92b-5524-4197-8f57-64543616470f",
   "metadata": {},
   "source": [
    "Afficher le nombre de lignes du labyrinthe (taille) "
   ]
  },
  {
   "cell_type": "code",
   "execution_count": 44,
   "id": "34d74e22-3948-450a-bfcb-986eeb7ba4cd",
   "metadata": {},
   "outputs": [
    {
     "data": {
      "text/plain": [
       "5"
      ]
     },
     "execution_count": 44,
     "metadata": {},
     "output_type": "execute_result"
    }
   ],
   "source": [
    "len(Labyrinthe)"
   ]
  },
  {
   "cell_type": "markdown",
   "id": "2c1c6022-bbf6-4bca-9f63-2055c55208b3",
   "metadata": {},
   "source": [
    "Afficher le nombre de colonnes du labyrinthe (taille de la première ligne) "
   ]
  },
  {
   "cell_type": "code",
   "execution_count": 47,
   "id": "dc816276-0e40-4c83-a2b9-d6a155481b0e",
   "metadata": {},
   "outputs": [
    {
     "data": {
      "text/plain": [
       "7"
      ]
     },
     "execution_count": 47,
     "metadata": {},
     "output_type": "execute_result"
    }
   ],
   "source": [
    "len(Labyrinthe[0])"
   ]
  },
  {
   "cell_type": "markdown",
   "id": "b337a41f",
   "metadata": {},
   "source": [
    "## 🔍 3. Trouver les positions de départ et d'arrivée\n",
    "\n",
    "Ecrire une fonction qui cherche les coordonnées du point de départ (start) et du point d'arrivée (end), à partir de la matrice du labyrinthe.\n",
    "\n",
    "La fonction doit retourner les coordonnées (x, y) de chaque point, comme ceci : \\\n",
    "**Start: (4, 0) \\\n",
    "End: (0, 6)**\n",
    "\n",
    "<u>Indication</u> : la fonction parcourir les lignes et les colonnes avec des boucles for pour trouver les cellules qui contiennent les lettres 'S' et 'E'."
   ]
  },
  {
   "cell_type": "code",
   "execution_count": 50,
   "id": "9cae9767",
   "metadata": {},
   "outputs": [
    {
     "name": "stdout",
     "output_type": "stream",
     "text": [
      "Start: (4, 0) | End: (0, 6)\n"
     ]
    }
   ],
   "source": [
    "def find_positions(labyrinthe):\n",
    "    start, end = None, None\n",
    "    for i in range(len(labyrinthe)):\n",
    "        for j in range(len(labyrinthe[0])):\n",
    "            if labyrinthe[i][j] == 'S':\n",
    "                start = (i, j)\n",
    "            elif labyrinthe[i][j] == 'E':\n",
    "                end = (i, j)\n",
    "    return start, end\n",
    "\n",
    "# Vérification\n",
    "start, end = find_positions(Labyrinthe)\n",
    "print('Start:', start, '| End:', end)"
   ]
  },
  {
   "cell_type": "markdown",
   "id": "835e8d41",
   "metadata": {},
   "source": [
    "## 📌 4. Construction du Graphe avec NetworkX\n",
    "Nous allons créer un graphe où :\n",
    "- Chaque case du labyrinthe est un **nœud**.\n",
    "- Un chemin entre deux cases est une **arête**.\n"
   ]
  },
  {
   "cell_type": "code",
   "execution_count": 53,
   "id": "5b9794f4",
   "metadata": {},
   "outputs": [
    {
     "name": "stdout",
     "output_type": "stream",
     "text": [
      "Nombre de nœuds : 25\n",
      "Nombre d’arêtes : 26\n"
     ]
    }
   ],
   "source": [
    "def build_graph(labyrinthe):\n",
    "    G = nx.Graph()\n",
    "    rows, cols = len(labyrinthe), len(labyrinthe[0])\n",
    "    directions = [(-1, 0), (1, 0), (0, -1), (0, 1)]\n",
    "\n",
    "    for x in range(rows):\n",
    "        for y in range(cols):\n",
    "            # print(\"x = \", x, \" y= \" ,y)\n",
    "            # print(labyrinthe[x][y])\n",
    "            if labyrinthe[x][y] != 1:  # Pas un mur\n",
    "                G.add_node((x, y))\n",
    "                for dx, dy in directions:\n",
    "                    # print(\"dx = \", dx, \" dy = \", dy)\n",
    "                    n_x, n_y = x + dx, y + dy\n",
    "                    if 0 <= n_x < rows and 0 <= n_y < cols and labyrinthe[n_x][n_y] != 1:\n",
    "                        ##### À compléter : Ajouter une arête entre (x, y) et (nx, ny)\n",
    "                        G.add_edge((x, y), (n_x, n_y), weight=1)\n",
    "                        \n",
    "            # draw_labyrinth_graph(G)\n",
    "\n",
    "    return G\n",
    "\n",
    "# Construction du graphe\n",
    "G = build_graph(Labyrinthe)\n",
    "print('Nombre de nœuds :', len(G.nodes))\n",
    "print('Nombre d’arêtes :', len(G.edges))"
   ]
  },
  {
   "cell_type": "code",
   "execution_count": 55,
   "id": "3b2d659b-3ff4-4942-b88c-aa458084a0bf",
   "metadata": {},
   "outputs": [
    {
     "data": {
      "image/png": "[encoded data removed]",
      "text/plain": [
       "<Figure size 800x800 with 1 Axes>"
      ]
     },
     "metadata": {},
     "output_type": "display_data"
    }
   ],
   "source": [
    "import networkx as nx\n",
    "import matplotlib.pyplot as plt\n",
    "\n",
    "def draw_labyrinth_graph(graph):\n",
    "    pos = {node: (node[1], -node[0]) for node in graph.nodes}  # Positionner les nœuds selon leurs coordonnées\n",
    "    plt.figure(figsize=(8, 8))\n",
    "    nx.draw(graph, pos, with_labels=True, node_size=500, node_color='lightblue', edge_color='gray')\n",
    "    plt.show()\n",
    "\n",
    "# Affichage du graphe\n",
    "draw_labyrinth_graph(G)\n"
   ]
  },
  {
   "cell_type": "code",
   "execution_count": 57,
   "id": "76beb6ef-bff3-4488-af83-79eb2c1ff7e5",
   "metadata": {},
   "outputs": [
    {
     "data": {
      "text/plain": [
       "NodeView(((0, 0), (1, 0), (0, 1), (0, 2), (0, 3), (0, 4), (0, 5), (0, 6), (1, 6), (2, 0), (2, 6), (3, 0), (2, 1), (2, 2), (3, 2), (2, 3), (2, 4), (3, 4), (3, 6), (4, 0), (4, 2), (4, 4), (4, 6), (4, 1), (4, 5)))"
      ]
     },
     "execution_count": 57,
     "metadata": {},
     "output_type": "execute_result"
    }
   ],
   "source": [
    "G.nodes"
   ]
  },
  {
   "cell_type": "code",
   "execution_count": 59,
   "id": "504df31e-4cda-4c19-89d1-202abe6b3c49",
   "metadata": {},
   "outputs": [
    {
     "data": {
      "text/plain": [
       "EdgeView([((0, 0), (1, 0)), ((0, 0), (0, 1)), ((1, 0), (2, 0)), ((0, 1), (0, 2)), ((0, 2), (0, 3)), ((0, 3), (0, 4)), ((0, 4), (0, 5)), ((0, 5), (0, 6)), ((0, 6), (1, 6)), ((1, 6), (2, 6)), ((2, 0), (3, 0)), ((2, 0), (2, 1)), ((2, 6), (3, 6)), ((3, 0), (4, 0)), ((2, 1), (2, 2)), ((2, 2), (3, 2)), ((2, 2), (2, 3)), ((3, 2), (4, 2)), ((2, 3), (2, 4)), ((2, 4), (3, 4)), ((3, 4), (4, 4)), ((3, 6), (4, 6)), ((4, 0), (4, 1)), ((4, 2), (4, 1)), ((4, 4), (4, 5)), ((4, 6), (4, 5))])"
      ]
     },
     "execution_count": 59,
     "metadata": {},
     "output_type": "execute_result"
    }
   ],
   "source": [
    "G.edges"
   ]
  },
  {
   "cell_type": "markdown",
   "id": "ecbfe28c",
   "metadata": {},
   "source": [
    "## 🔎 5. Recherche avec BFS et DFS\n",
    "Nous allons implémenter BFS et DFS pour trouver un chemin vers la solution. \n",
    "\n",
    "La fonction **shortest_path() de NetworkX** utilise l'algorithme de recherche Dijkstra. Mais, puisque notre problème correspond à un graphe non pondéré (le même coût pour passer d'un noeud à un autre), donc il se compote exactement comme un BFS.  "
   ]
  },
  {
   "cell_type": "code",
   "execution_count": 62,
   "id": "ad785721-b93c-423e-bbbc-5e6314ab6323",
   "metadata": {},
   "outputs": [],
   "source": [
    "# BFS (Recherche en largeur)\n",
    "def bfs_path(graph, start, end):\n",
    "    \"\"\"Recherche BFS du chemin le plus court\"\"\"\n",
    "    try:\n",
    "        path = nx.shortest_path(graph, source=start, target=end)\n",
    "        return path, len(path)\n",
    "        \n",
    "    except nx.NetworkXNoPath:\n",
    "        return None, 0"
   ]
  },
  {
   "cell_type": "markdown",
   "id": "9f4b9efa-0b78-42d1-a9c6-0c6b86ce2fd2",
   "metadata": {},
   "source": [
    "La fonction **dfs_preorder_nodes de NetworkX** génère des nœuds dans un ordre préalable de recherche en profondeur en commençant par la source."
   ]
  },
  {
   "cell_type": "code",
   "execution_count": 65,
   "id": "cde73480",
   "metadata": {},
   "outputs": [],
   "source": [
    "# DFS (Recherche en profondeur)\n",
    "def dfs_path(graph, start, end):\n",
    "    \"\"\"Recherche DFS du chemin (non optimal)\"\"\"\n",
    "    try:\n",
    "        path = list(nx.dfs_preorder_nodes(graph, source=start))\n",
    "        if end in path:\n",
    "            idx = path.index(end)\n",
    "            return path[:idx + 1], len(path[:idx + 1])\n",
    "        else:\n",
    "            return None, 0\n",
    "    except nx.NetworkXNoPath:\n",
    "        return None, 0\n",
    "    # try:\n",
    "    #     return nx.dfs_path(graph, source=start, target=end)\n",
    "    # except nx.NetworkXNoPath:\n",
    "    #     return None\n",
    "\n"
   ]
  },
  {
   "cell_type": "markdown",
   "id": "b93eeba7-4351-438e-9669-242116f24ee1",
   "metadata": {},
   "source": [
    "\n",
    "\n",
    "**Appliquer la recherche par BFS puis par DFS pour trouver le chemin vers la destination dans notre labyrinthe.**\n",
    "\n",
    "Pour chaque algorithme, afficher **le chemin obtenu** ainsi que **sa longueur**."
   ]
  },
  {
   "cell_type": "code",
   "execution_count": 68,
   "id": "bbd5b9bb-f5f7-409e-8da2-41d8a74a7ac1",
   "metadata": {},
   "outputs": [
    {
     "name": "stdout",
     "output_type": "stream",
     "text": [
      "Chemin BFS: [(4, 0), (3, 0), (2, 0), (1, 0), (0, 0), (0, 1), (0, 2), (0, 3), (0, 4), (0, 5), (0, 6)]\n",
      "Longueur du Chemin BFS: 11\n",
      "Chemin DFS: [(4, 0), (3, 0), (2, 0), (1, 0), (0, 0), (0, 1), (0, 2), (0, 3), (0, 4), (0, 5), (0, 6)]\n",
      "Longueur du Chemin DFS: 11\n"
     ]
    }
   ],
   "source": [
    "# Test des fonctions\n",
    "bfs_solution, length_bfs = bfs_path(G, start, end)\n",
    "dfs_solution, length_dfs = dfs_path(G, start, end)\n",
    "print('Chemin BFS:', bfs_solution)\n",
    "print('Longueur du Chemin BFS:', length_bfs)\n",
    "print('Chemin DFS:', dfs_solution)\n",
    "print('Longueur du Chemin DFS:', length_dfs)"
   ]
  },
  {
   "cell_type": "markdown",
   "id": "2c4ec3e5",
   "metadata": {},
   "source": [
    "## ⭐ 6. Implémentation de A* avec `networkx.astar_path`\n",
    "L'algorithme A* utilise une **fonction heuristique** pour guider la recherche. Nous utiliserons la distance de Manhattan comme heuristique."
   ]
  },
  {
   "cell_type": "code",
   "execution_count": 71,
   "id": "7024d547",
   "metadata": {},
   "outputs": [
    {
     "name": "stdout",
     "output_type": "stream",
     "text": [
      "Chemin A*: [(4, 0), (3, 0), (2, 0), (1, 0), (0, 0), (0, 1), (0, 2), (0, 3), (0, 4), (0, 5), (0, 6)]\n",
      "Longueur du Chemin A*: 11\n"
     ]
    }
   ],
   "source": [
    "# Heuristique de Manhattan\n",
    "def heuristique(a, b):\n",
    "    hs = abs(a[0] - b[0]) + abs(a[1] - b[1])\n",
    "    return hs\n",
    "\n",
    "# A* avec NetworkX\n",
    "def astar_path(graph, start, end):\n",
    "    try:\n",
    "        path = nx.astar_path(graph, source=start, target=end, heuristic=heuristique)\n",
    "        return path, len(path)\n",
    "    except nx.NetworkXNoPath:\n",
    "        return None\n",
    "\n",
    "# Test de A*\n",
    "astar_solution, length_astar = astar_path(G, start, end)\n",
    "print('Chemin A*:', astar_solution)\n",
    "print('Longueur du Chemin A*:', length_astar)"
   ]
  },
  {
   "cell_type": "markdown",
   "id": "5275c4f9",
   "metadata": {},
   "source": [
    "## 🖼️ 7. Affichage du Labyrinthe avec le Chemin Trouvé\n",
    "Nous allons visualiser le chemin trouvé avec BFS, DFS et A*."
   ]
  },
  {
   "cell_type": "code",
   "execution_count": 74,
   "id": "1e075fef",
   "metadata": {},
   "outputs": [
    {
     "name": "stdout",
     "output_type": "stream",
     "text": [
      "\n",
      "🔵 Chemin BFS:\n",
      "* * * * * * E\n",
      "* 1 1 1 1 1 0\n",
      "* 0 0 0 0 1 0\n",
      "* 1 0 1 0 1 0\n",
      "S 0 0 1 0 0 0\n",
      "\n",
      "🔴 Chemin DFS:\n",
      "* * * * * * E\n",
      "* 1 1 1 1 1 0\n",
      "* 0 0 0 0 1 0\n",
      "* 1 0 1 0 1 0\n",
      "S 0 0 1 0 0 0\n",
      "\n",
      "🟢 Chemin A*:\n",
      "* * * * * * E\n",
      "* 1 1 1 1 1 0\n",
      "* 0 0 0 0 1 0\n",
      "* 1 0 1 0 1 0\n",
      "S 0 0 1 0 0 0\n"
     ]
    }
   ],
   "source": [
    "import matplotlib.pyplot as plt\n",
    "\n",
    "def draw_labyrinthe(labyrinthe, path):\n",
    "    # labyrinthe_copy = np.array(labyrinthe, dtype=str)\n",
    "    # for x, y in path:\n",
    "    #     if labyrinthe_copy[x][y] not in ['S', 'E']:\n",
    "    #         labyrinthe_copy[x][y] = '*'\n",
    "\n",
    "    # for row in labyrinthe_copy:\n",
    "    #     print(' '.join(row))\n",
    "    \"\"\"Affiche le labyrinthe avec le chemin trouvé\"\"\"\n",
    "    labyrinthe_copy = np.array(labyrinthe, dtype=str)\n",
    "\n",
    "    # Marquer le chemin trouvé avec '*'\n",
    "    for (x, y) in path:\n",
    "        if labyrinthe_copy[x][y] not in ['S', 'E']:\n",
    "            labyrinthe_copy[x][y] = '*'\n",
    "\n",
    "    for row in labyrinthe_copy:\n",
    "        print(' '.join(row))\n",
    "\n",
    "# Affichage des résultats\n",
    "print('\\n🔵 Chemin BFS:')\n",
    "if bfs_solution:\n",
    "    draw_labyrinthe(Labyrinthe, bfs_solution)\n",
    "\n",
    "print('\\n🔴 Chemin DFS:')\n",
    "if dfs_solution:\n",
    "    draw_labyrinthe(Labyrinthe, dfs_solution)\n",
    "\n",
    "print('\\n🟢 Chemin A*:')\n",
    "if astar_solution:\n",
    "    draw_labyrinthe(Labyrinthe, astar_solution)"
   ]
  },
  {
   "cell_type": "code",
   "execution_count": null,
   "id": "81d74d52-e771-4267-aa40-ff33260c8e7c",
   "metadata": {},
   "outputs": [],
   "source": []
  },
  {
   "cell_type": "code",
   "execution_count": null,
   "id": "fa467477-11ac-49d7-8ecd-9b6814be6386",
   "metadata": {},
   "outputs": [],
   "source": []
  }
 ],
 "metadata": {
  "kernelspec": {
   "display_name": "Python [conda env:base] *",
   "language": "python",
   "name": "conda-base-py"
  },
  "language_info": {
   "codemirror_mode": {
    "name": "ipython",
    "version": 3
   },
   "file_extension": ".py",
   "mimetype": "text/x-python",
   "name": "python",
   "nbconvert_exporter": "python",
   "pygments_lexer": "ipython3",
   "version": "3.12.7"
  }
 },
 "nbformat": 4,
 "nbformat_minor": 5
}
